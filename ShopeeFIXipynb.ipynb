{
  "nbformat": 4,
  "nbformat_minor": 0,
  "metadata": {
    "colab": {
      "name": "ShopeeFIXipynb",
      "provenance": [],
      "collapsed_sections": []
    },
    "kernelspec": {
      "name": "python3",
      "display_name": "Python 3"
    },
    "language_info": {
      "name": "python"
    }
  },
  "cells": [
    {
      "cell_type": "code",
      "execution_count": null,
      "metadata": {
        "colab": {
          "base_uri": "https://localhost:8080/"
        },
        "id": "SJbL156GF0uG",
        "outputId": "fca06c26-bf12-4c63-e931-64d5956bf31a"
      },
      "outputs": [
        {
          "output_type": "stream",
          "name": "stdout",
          "text": [
            "[nltk_data] Downloading package movie_reviews to /root/nltk_data...\n",
            "[nltk_data]   Unzipping corpora/movie_reviews.zip.\n",
            "[nltk_data] Downloading package punkt to /root/nltk_data...\n",
            "[nltk_data]   Unzipping tokenizers/punkt.zip.\n",
            "•&gt; 23.000 - 40.000\n",
            "•&gt; link : https://t.co/2gHWJbOQMx https://t.co/noG7Ur2QQh\n",
            "Sentiment(classification='pos', p_pos=0.5370370370370368, p_neg=0.46296296296296297)\n",
            "we've decided to open a new donation drive for Pahang and N9 victims too. donation can be made through online banki… https://t.co/M0FyscgTXE\n",
            "Sentiment(classification='pos', p_pos=0.970237518398521, p_neg=0.02976248160147777)\n",
            "@sellkpopdata Dom Palembang, bisa keep event, shopee freeong https://t.co/FvhKdZdYqW\n",
            "Sentiment(classification='pos', p_pos=0.8012295081967216, p_neg=0.19877049180327877)\n",
            "Halo semua!🦄 @byusniess jual followers, like, views dan subs. yuk beli followers ig, folls tiktok, folls shopee, fo… https://t.co/UalwPMiSaD\n",
            "Sentiment(classification='pos', p_pos=0.9878602465393463, p_neg=0.012139753460653744)\n",
            "Bump ! \n",
            "\n",
            "✧ wts lfb ph ✧ pls help rt! ☻ \n",
            "\n",
            "☁️ a5 gingham binder divider (assorted)\n",
            "\n",
            " 𓂋 ₱ 65\n",
            " 𓂋 8pcs, divider size beo… https://t.co/OgnasisBgQ\n",
            "Sentiment(classification='neg', p_pos=0.26493753833241906, p_neg=0.7350624616675819)\n",
            "@sellkpopfess Wts - want to sell\n",
            "\n",
            "hello future md nct dream sealed holo postcard jeno set\n",
            "\n",
            "📍solo\n",
            "💰155k incl. 📦\n",
            "✅ shopee &amp; keep event\n",
            "Sentiment(classification='pos', p_pos=0.8396670348596952, p_neg=0.16033296514030493)\n",
            "in shopee krshops i trust @Fatirkshop 🥲 https://t.co/ClZuD0ggIA\n",
            "Sentiment(classification='neg', p_pos=0.4294871794871793, p_neg=0.5705128205128204)\n",
            "WTS/LFB [PLS HELP RT]\n",
            "\n",
            "⭐ BTS BUTTER CASSETTE TAPE\n",
            "\n",
            "345 PHP ea + LSF\n",
            "\n",
            "✒ 3 days reservation ONLY\n",
            "✒ On Hand\n",
            "✒ Can chec… https://t.co/ao9vWpgiKp\n",
            "Sentiment(classification='neg', p_pos=0.4201036334229184, p_neg=0.5798963665770838)\n"
          ]
        }
      ],
      "source": [
        "import tweepy\n",
        "import seaborn as sns\n",
        "from textblob import TextBlob\n",
        "from textblob.sentiments import NaiveBayesAnalyzer\n",
        "import pandas as pd\n",
        "import nltk\n",
        "from nltk.corpus import movie_reviews\n",
        "nltk.download('movie_reviews')\n",
        "nltk.download('punkt')\n",
        "\n",
        "access_token = \"1274315523325431808-zrNxVZZycmhhoSLfQ3Xmg78wV1B97H\"\n",
        "access_token_secret = \"vnRtWtAPQ2onLSM9ePO5cbkQ0dQI61c1ZdqT9deYejUpY\"\n",
        "costumer_key = \"6ruZzY5r7Tpnb8th1H40DZ29l\"\n",
        "costumer_secret = \"dqJyYH8uP5W9xNXjlqGIotTpO4jB0aiuMPTrv53FGLnovDFlVw\"\n",
        "\n",
        "auth = tweepy.OAuthHandler(costumer_key,costumer_secret)\n",
        "auth.set_access_token(access_token,access_token_secret)\n",
        "api = tweepy.API(auth)\n",
        "query = 'shopee'\n",
        "max_tweets = 100\n",
        "\n",
        "public_tweets = tweepy.Cursor(api.search, q = query).items(max_tweets)\n",
        "tweet_sentiment = []\n",
        "\n",
        "for tweet in public_tweets:\n",
        "  if(tweet.lang=='en') and (not tweet.retweeted) and ('RT @' not in tweet.text):\n",
        "    print(tweet.text)\n",
        "    analysis = TextBlob(tweet.text, analyzer = NaiveBayesAnalyzer())\n",
        "    print(analysis.sentiment)\n",
        "    tweet_sentiment.append(analysis.sentiment.classification)"
      ]
    },
    {
      "cell_type": "code",
      "source": [
        "data = {'Tweet':tweet_sentiment}\n",
        "data = pd.DataFrame(data)"
      ],
      "metadata": {
        "id": "KgyV0JZLnL6Z"
      },
      "execution_count": null,
      "outputs": []
    },
    {
      "cell_type": "code",
      "source": [
        "sns.set_style('darkgrid')\n",
        "g = sns.factorplot(x='Tweet', data=data, aspect=1.5, kind=\"count\")"
      ],
      "metadata": {
        "colab": {
          "base_uri": "https://localhost:8080/",
          "height": 424
        },
        "id": "spP8F8LgnUod",
        "outputId": "e9f50de2-8a52-4dda-94c4-bec8a8dce52d"
      },
      "execution_count": null,
      "outputs": [
        {
          "output_type": "stream",
          "name": "stderr",
          "text": [
            "/usr/local/lib/python3.7/dist-packages/seaborn/categorical.py:3717: UserWarning: The `factorplot` function has been renamed to `catplot`. The original name will be removed in a future release. Please update your code. Note that the default `kind` in `factorplot` (`'point'`) has changed `'strip'` in `catplot`.\n",
            "  warnings.warn(msg)\n"
          ]
        },
        {
          "output_type": "display_data",
          "data": {
            "image/png": "[encoded data removed]",
            "text/plain": [
              "<Figure size 540x360 with 1 Axes>"
            ]
          },
          "metadata": {}
        }
      ]
    }
  ]
}